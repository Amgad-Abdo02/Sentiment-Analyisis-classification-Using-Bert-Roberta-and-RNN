{
  "cells": [
    {
      "cell_type": "markdown",
      "metadata": {
        "id": "UxYlVZvxpD7n"
      },
      "source": [
        "# **Mounting drive**"
      ]
    },
    {
      "cell_type": "code",
      "execution_count": null,
      "metadata": {
        "colab": {
          "base_uri": "https://localhost:8080/"
        },
        "id": "lsHFi3ahS9mo",
        "outputId": "74f5d5f1-0e26-4f9f-f74f-4499ea6676b7"
      },
      "outputs": [
        {
          "name": "stdout",
          "output_type": "stream",
          "text": [
            "Mounted at /content/drive\n"
          ]
        }
      ],
      "source": [
        "from google.colab import drive\n",
        "\n",
        "drive.mount('/content/drive')"
      ]
    },
    {
      "cell_type": "markdown",
      "metadata": {
        "id": "ytWrwV61S3gE"
      },
      "source": [
        "# **Downloading the Data**"
      ]
    },
    {
      "cell_type": "code",
      "execution_count": null,
      "metadata": {
        "colab": {
          "base_uri": "https://localhost:8080/"
        },
        "id": "lilR5R81S3gF",
        "outputId": "b3546ec1-86d5-4699-a832-ed5dc9f8fa05"
      },
      "outputs": [
        {
          "name": "stdout",
          "output_type": "stream",
          "text": [
            "Downloading...\n",
            "From: https://drive.google.com/uc?id=1ojaJLmM6sar58i0WZ9_C5j7gwBc1chLl\n",
            "To: /content/Movie_Reviews.csv\n",
            "100% 66.2M/66.2M [00:00<00:00, 237MB/s]\n"
          ]
        }
      ],
      "source": [
        "!gdown 1ojaJLmM6sar58i0WZ9_C5j7gwBc1chLl"
      ]
    },
    {
      "cell_type": "markdown",
      "metadata": {
        "id": "c5wn5FZ7Rc8J"
      },
      "source": [
        "# **Downloading Libraries**"
      ]
    },
    {
      "cell_type": "code",
      "execution_count": null,
      "metadata": {
        "colab": {
          "base_uri": "https://localhost:8080/"
        },
        "id": "YIzHbl61U7Fj",
        "outputId": "aa10cd10-e860-4268-b2b2-aa9c4481f822"
      },
      "outputs": [
        {
          "name": "stdout",
          "output_type": "stream",
          "text": [
            "Looking in indexes: https://pypi.org/simple, https://us-python.pkg.dev/colab-wheels/public/simple/\n",
            "Collecting tf-models-official\n",
            "  Downloading tf_models_official-2.11.2-py2.py3-none-any.whl (2.3 MB)\n",
            "\u001b[K     |████████████████████████████████| 2.3 MB 29.0 MB/s \n",
            "\u001b[?25hRequirement already satisfied: tensorflow-hub>=0.6.0 in /usr/local/lib/python3.8/dist-packages (from tf-models-official) (0.12.0)\n",
            "Requirement already satisfied: numpy>=1.20 in /usr/local/lib/python3.8/dist-packages (from tf-models-official) (1.21.6)\n",
            "Collecting tensorflow-addons\n",
            "  Downloading tensorflow_addons-0.19.0-cp38-cp38-manylinux_2_17_x86_64.manylinux2014_x86_64.whl (1.1 MB)\n",
            "\u001b[K     |████████████████████████████████| 1.1 MB 64.6 MB/s \n",
            "\u001b[?25hRequirement already satisfied: opencv-python-headless in /usr/local/lib/python3.8/dist-packages (from tf-models-official) (4.6.0.66)\n",
            "Collecting immutabledict\n",
            "  Downloading immutabledict-2.2.3-py3-none-any.whl (4.0 kB)\n",
            "Requirement already satisfied: matplotlib in /usr/local/lib/python3.8/dist-packages (from tf-models-official) (3.2.2)\n",
            "Requirement already satisfied: scipy>=0.19.1 in /usr/local/lib/python3.8/dist-packages (from tf-models-official) (1.7.3)\n",
            "Requirement already satisfied: Pillow in /usr/local/lib/python3.8/dist-packages (from tf-models-official) (7.1.2)\n",
            "Collecting seqeval\n",
            "  Downloading seqeval-1.2.2.tar.gz (43 kB)\n",
            "\u001b[K     |████████████████████████████████| 43 kB 2.4 MB/s \n",
            "\u001b[?25hCollecting sentencepiece\n",
            "  Downloading sentencepiece-0.1.97-cp38-cp38-manylinux_2_17_x86_64.manylinux2014_x86_64.whl (1.3 MB)\n",
            "\u001b[K     |████████████████████████████████| 1.3 MB 64.5 MB/s \n",
            "\u001b[?25hRequirement already satisfied: oauth2client in /usr/local/lib/python3.8/dist-packages (from tf-models-official) (4.1.3)\n",
            "Collecting py-cpuinfo>=3.3.0\n",
            "  Downloading py_cpuinfo-9.0.0-py3-none-any.whl (22 kB)\n",
            "Collecting tensorflow-model-optimization>=0.4.1\n",
            "  Downloading tensorflow_model_optimization-0.7.3-py2.py3-none-any.whl (238 kB)\n",
            "\u001b[K     |████████████████████████████████| 238 kB 60.6 MB/s \n",
            "\u001b[?25hCollecting pyyaml<6.0,>=5.1\n",
            "  Downloading PyYAML-5.4.1-cp38-cp38-manylinux1_x86_64.whl (662 kB)\n",
            "\u001b[K     |████████████████████████████████| 662 kB 73.8 MB/s \n",
            "\u001b[?25hRequirement already satisfied: pandas>=0.22.0 in /usr/local/lib/python3.8/dist-packages (from tf-models-official) (1.3.5)\n",
            "Requirement already satisfied: tensorflow-datasets in /usr/local/lib/python3.8/dist-packages (from tf-models-official) (4.6.0)\n",
            "Requirement already satisfied: six in /usr/local/lib/python3.8/dist-packages (from tf-models-official) (1.15.0)\n",
            "Requirement already satisfied: pycocotools in /usr/local/lib/python3.8/dist-packages (from tf-models-official) (2.0.6)\n",
            "Requirement already satisfied: psutil>=5.4.3 in /usr/local/lib/python3.8/dist-packages (from tf-models-official) (5.4.8)\n",
            "Collecting sacrebleu\n",
            "  Downloading sacrebleu-2.3.1-py3-none-any.whl (118 kB)\n",
            "\u001b[K     |████████████████████████████████| 118 kB 74.9 MB/s \n",
            "\u001b[?25hCollecting tf-slim>=1.1.0\n",
            "  Downloading tf_slim-1.1.0-py2.py3-none-any.whl (352 kB)\n",
            "\u001b[K     |████████████████████████████████| 352 kB 83.2 MB/s \n",
            "\u001b[?25hCollecting tensorflow-text~=2.11.0\n",
            "  Downloading tensorflow_text-2.11.0-cp38-cp38-manylinux_2_17_x86_64.manylinux2014_x86_64.whl (5.8 MB)\n",
            "\u001b[K     |████████████████████████████████| 5.8 MB 55.9 MB/s \n",
            "\u001b[?25hRequirement already satisfied: Cython in /usr/local/lib/python3.8/dist-packages (from tf-models-official) (0.29.32)\n",
            "Collecting tensorflow~=2.11.0\n",
            "  Downloading tensorflow-2.11.0-cp38-cp38-manylinux_2_17_x86_64.manylinux2014_x86_64.whl (588.3 MB)\n",
            "\u001b[K     |████████████████████████████████| 588.3 MB 20 kB/s \n",
            "\u001b[?25hRequirement already satisfied: gin-config in /usr/local/lib/python3.8/dist-packages (from tf-models-official) (0.5.0)\n",
            "Requirement already satisfied: kaggle>=1.3.9 in /usr/local/lib/python3.8/dist-packages (from tf-models-official) (1.5.12)\n",
            "Requirement already satisfied: google-api-python-client>=1.6.7 in /usr/local/lib/python3.8/dist-packages (from tf-models-official) (1.12.11)\n",
            "Requirement already satisfied: httplib2<1dev,>=0.15.0 in /usr/local/lib/python3.8/dist-packages (from google-api-python-client>=1.6.7->tf-models-official) (0.17.4)\n",
            "Requirement already satisfied: google-auth<3dev,>=1.16.0 in /usr/local/lib/python3.8/dist-packages (from google-api-python-client>=1.6.7->tf-models-official) (2.15.0)\n",
            "Requirement already satisfied: google-api-core<3dev,>=1.21.0 in /usr/local/lib/python3.8/dist-packages (from google-api-python-client>=1.6.7->tf-models-official) (2.8.2)\n",
            "Requirement already satisfied: uritemplate<4dev,>=3.0.0 in /usr/local/lib/python3.8/dist-packages (from google-api-python-client>=1.6.7->tf-models-official) (3.0.1)\n",
            "Requirement already satisfied: google-auth-httplib2>=0.0.3 in /usr/local/lib/python3.8/dist-packages (from google-api-python-client>=1.6.7->tf-models-official) (0.0.4)\n",
            "Requirement already satisfied: googleapis-common-protos<2.0dev,>=1.56.2 in /usr/local/lib/python3.8/dist-packages (from google-api-core<3dev,>=1.21.0->google-api-python-client>=1.6.7->tf-models-official) (1.57.0)\n",
            "Requirement already satisfied: requests<3.0.0dev,>=2.18.0 in /usr/local/lib/python3.8/dist-packages (from google-api-core<3dev,>=1.21.0->google-api-python-client>=1.6.7->tf-models-official) (2.23.0)\n",
            "Requirement already satisfied: protobuf<5.0.0dev,>=3.15.0 in /usr/local/lib/python3.8/dist-packages (from google-api-core<3dev,>=1.21.0->google-api-python-client>=1.6.7->tf-models-official) (3.19.6)\n",
            "Requirement already satisfied: rsa<5,>=3.1.4 in /usr/local/lib/python3.8/dist-packages (from google-auth<3dev,>=1.16.0->google-api-python-client>=1.6.7->tf-models-official) (4.9)\n",
            "Requirement already satisfied: pyasn1-modules>=0.2.1 in /usr/local/lib/python3.8/dist-packages (from google-auth<3dev,>=1.16.0->google-api-python-client>=1.6.7->tf-models-official) (0.2.8)\n",
            "Requirement already satisfied: cachetools<6.0,>=2.0.0 in /usr/local/lib/python3.8/dist-packages (from google-auth<3dev,>=1.16.0->google-api-python-client>=1.6.7->tf-models-official) (5.2.0)\n",
            "Requirement already satisfied: python-slugify in /usr/local/lib/python3.8/dist-packages (from kaggle>=1.3.9->tf-models-official) (7.0.0)\n",
            "Requirement already satisfied: urllib3 in /usr/local/lib/python3.8/dist-packages (from kaggle>=1.3.9->tf-models-official) (1.24.3)\n",
            "Requirement already satisfied: python-dateutil in /usr/local/lib/python3.8/dist-packages (from kaggle>=1.3.9->tf-models-official) (2.8.2)\n",
            "Requirement already satisfied: certifi in /usr/local/lib/python3.8/dist-packages (from kaggle>=1.3.9->tf-models-official) (2022.12.7)\n",
            "Requirement already satisfied: tqdm in /usr/local/lib/python3.8/dist-packages (from kaggle>=1.3.9->tf-models-official) (4.64.1)\n",
            "Requirement already satisfied: pytz>=2017.3 in /usr/local/lib/python3.8/dist-packages (from pandas>=0.22.0->tf-models-official) (2022.6)\n",
            "Requirement already satisfied: pyasn1<0.5.0,>=0.4.6 in /usr/local/lib/python3.8/dist-packages (from pyasn1-modules>=0.2.1->google-auth<3dev,>=1.16.0->google-api-python-client>=1.6.7->tf-models-official) (0.4.8)\n",
            "Requirement already satisfied: chardet<4,>=3.0.2 in /usr/local/lib/python3.8/dist-packages (from requests<3.0.0dev,>=2.18.0->google-api-core<3dev,>=1.21.0->google-api-python-client>=1.6.7->tf-models-official) (3.0.4)\n",
            "Requirement already satisfied: idna<3,>=2.5 in /usr/local/lib/python3.8/dist-packages (from requests<3.0.0dev,>=2.18.0->google-api-core<3dev,>=1.21.0->google-api-python-client>=1.6.7->tf-models-official) (2.10)\n",
            "Requirement already satisfied: setuptools in /usr/local/lib/python3.8/dist-packages (from tensorflow~=2.11.0->tf-models-official) (57.4.0)\n",
            "Requirement already satisfied: opt-einsum>=2.3.2 in /usr/local/lib/python3.8/dist-packages (from tensorflow~=2.11.0->tf-models-official) (3.3.0)\n",
            "Requirement already satisfied: grpcio<2.0,>=1.24.3 in /usr/local/lib/python3.8/dist-packages (from tensorflow~=2.11.0->tf-models-official) (1.51.1)\n",
            "Requirement already satisfied: tensorflow-io-gcs-filesystem>=0.23.1 in /usr/local/lib/python3.8/dist-packages (from tensorflow~=2.11.0->tf-models-official) (0.28.0)\n",
            "Collecting tensorboard<2.12,>=2.11\n",
            "  Downloading tensorboard-2.11.0-py3-none-any.whl (6.0 MB)\n",
            "\u001b[K     |████████████████████████████████| 6.0 MB 59.5 MB/s \n",
            "\u001b[?25hCollecting flatbuffers>=2.0\n",
            "  Downloading flatbuffers-22.12.6-py2.py3-none-any.whl (26 kB)\n",
            "Requirement already satisfied: astunparse>=1.6.0 in /usr/local/lib/python3.8/dist-packages (from tensorflow~=2.11.0->tf-models-official) (1.6.3)\n",
            "Requirement already satisfied: google-pasta>=0.1.1 in /usr/local/lib/python3.8/dist-packages (from tensorflow~=2.11.0->tf-models-official) (0.2.0)\n",
            "Collecting tensorflow-estimator<2.12,>=2.11.0\n",
            "  Downloading tensorflow_estimator-2.11.0-py2.py3-none-any.whl (439 kB)\n",
            "\u001b[K     |████████████████████████████████| 439 kB 79.9 MB/s \n",
            "\u001b[?25hRequirement already satisfied: wrapt>=1.11.0 in /usr/local/lib/python3.8/dist-packages (from tensorflow~=2.11.0->tf-models-official) (1.14.1)\n",
            "Requirement already satisfied: h5py>=2.9.0 in /usr/local/lib/python3.8/dist-packages (from tensorflow~=2.11.0->tf-models-official) (3.1.0)\n",
            "Requirement already satisfied: packaging in /usr/local/lib/python3.8/dist-packages (from tensorflow~=2.11.0->tf-models-official) (21.3)\n",
            "Requirement already satisfied: typing-extensions>=3.6.6 in /usr/local/lib/python3.8/dist-packages (from tensorflow~=2.11.0->tf-models-official) (4.4.0)\n",
            "Collecting keras<2.12,>=2.11.0\n",
            "  Downloading keras-2.11.0-py2.py3-none-any.whl (1.7 MB)\n",
            "\u001b[K     |████████████████████████████████| 1.7 MB 67.0 MB/s \n",
            "\u001b[?25hRequirement already satisfied: libclang>=13.0.0 in /usr/local/lib/python3.8/dist-packages (from tensorflow~=2.11.0->tf-models-official) (14.0.6)\n",
            "Requirement already satisfied: termcolor>=1.1.0 in /usr/local/lib/python3.8/dist-packages (from tensorflow~=2.11.0->tf-models-official) (2.1.1)\n",
            "Requirement already satisfied: gast<=0.4.0,>=0.2.1 in /usr/local/lib/python3.8/dist-packages (from tensorflow~=2.11.0->tf-models-official) (0.4.0)\n",
            "Requirement already satisfied: absl-py>=1.0.0 in /usr/local/lib/python3.8/dist-packages (from tensorflow~=2.11.0->tf-models-official) (1.3.0)\n",
            "Requirement already satisfied: wheel<1.0,>=0.23.0 in /usr/local/lib/python3.8/dist-packages (from astunparse>=1.6.0->tensorflow~=2.11.0->tf-models-official) (0.38.4)\n",
            "Requirement already satisfied: markdown>=2.6.8 in /usr/local/lib/python3.8/dist-packages (from tensorboard<2.12,>=2.11->tensorflow~=2.11.0->tf-models-official) (3.4.1)\n",
            "Requirement already satisfied: tensorboard-plugin-wit>=1.6.0 in /usr/local/lib/python3.8/dist-packages (from tensorboard<2.12,>=2.11->tensorflow~=2.11.0->tf-models-official) (1.8.1)\n",
            "Requirement already satisfied: werkzeug>=1.0.1 in /usr/local/lib/python3.8/dist-packages (from tensorboard<2.12,>=2.11->tensorflow~=2.11.0->tf-models-official) (1.0.1)\n",
            "Requirement already satisfied: google-auth-oauthlib<0.5,>=0.4.1 in /usr/local/lib/python3.8/dist-packages (from tensorboard<2.12,>=2.11->tensorflow~=2.11.0->tf-models-official) (0.4.6)\n",
            "Requirement already satisfied: tensorboard-data-server<0.7.0,>=0.6.0 in /usr/local/lib/python3.8/dist-packages (from tensorboard<2.12,>=2.11->tensorflow~=2.11.0->tf-models-official) (0.6.1)\n",
            "Requirement already satisfied: requests-oauthlib>=0.7.0 in /usr/local/lib/python3.8/dist-packages (from google-auth-oauthlib<0.5,>=0.4.1->tensorboard<2.12,>=2.11->tensorflow~=2.11.0->tf-models-official) (1.3.1)\n",
            "Requirement already satisfied: importlib-metadata>=4.4 in /usr/local/lib/python3.8/dist-packages (from markdown>=2.6.8->tensorboard<2.12,>=2.11->tensorflow~=2.11.0->tf-models-official) (5.1.0)\n",
            "Requirement already satisfied: zipp>=0.5 in /usr/local/lib/python3.8/dist-packages (from importlib-metadata>=4.4->markdown>=2.6.8->tensorboard<2.12,>=2.11->tensorflow~=2.11.0->tf-models-official) (3.11.0)\n",
            "Requirement already satisfied: oauthlib>=3.0.0 in /usr/local/lib/python3.8/dist-packages (from requests-oauthlib>=0.7.0->google-auth-oauthlib<0.5,>=0.4.1->tensorboard<2.12,>=2.11->tensorflow~=2.11.0->tf-models-official) (3.2.2)\n",
            "Requirement already satisfied: dm-tree~=0.1.1 in /usr/local/lib/python3.8/dist-packages (from tensorflow-model-optimization>=0.4.1->tf-models-official) (0.1.7)\n",
            "Requirement already satisfied: cycler>=0.10 in /usr/local/lib/python3.8/dist-packages (from matplotlib->tf-models-official) (0.11.0)\n",
            "Requirement already satisfied: pyparsing!=2.0.4,!=2.1.2,!=2.1.6,>=2.0.1 in /usr/local/lib/python3.8/dist-packages (from matplotlib->tf-models-official) (3.0.9)\n",
            "Requirement already satisfied: kiwisolver>=1.0.1 in /usr/local/lib/python3.8/dist-packages (from matplotlib->tf-models-official) (1.4.4)\n",
            "Requirement already satisfied: text-unidecode>=1.3 in /usr/local/lib/python3.8/dist-packages (from python-slugify->kaggle>=1.3.9->tf-models-official) (1.3)\n",
            "Collecting portalocker\n",
            "  Downloading portalocker-2.6.0-py2.py3-none-any.whl (15 kB)\n",
            "Collecting colorama\n",
            "  Downloading colorama-0.4.6-py2.py3-none-any.whl (25 kB)\n",
            "Requirement already satisfied: tabulate>=0.8.9 in /usr/local/lib/python3.8/dist-packages (from sacrebleu->tf-models-official) (0.8.10)\n",
            "Requirement already satisfied: regex in /usr/local/lib/python3.8/dist-packages (from sacrebleu->tf-models-official) (2022.6.2)\n",
            "Requirement already satisfied: lxml in /usr/local/lib/python3.8/dist-packages (from sacrebleu->tf-models-official) (4.9.2)\n",
            "Requirement already satisfied: scikit-learn>=0.21.3 in /usr/local/lib/python3.8/dist-packages (from seqeval->tf-models-official) (1.0.2)\n",
            "Requirement already satisfied: joblib>=0.11 in /usr/local/lib/python3.8/dist-packages (from scikit-learn>=0.21.3->seqeval->tf-models-official) (1.2.0)\n",
            "Requirement already satisfied: threadpoolctl>=2.0.0 in /usr/local/lib/python3.8/dist-packages (from scikit-learn>=0.21.3->seqeval->tf-models-official) (3.1.0)\n",
            "Requirement already satisfied: typeguard>=2.7 in /usr/local/lib/python3.8/dist-packages (from tensorflow-addons->tf-models-official) (2.7.1)\n",
            "Requirement already satisfied: tensorflow-metadata in /usr/local/lib/python3.8/dist-packages (from tensorflow-datasets->tf-models-official) (1.12.0)\n",
            "Requirement already satisfied: dill in /usr/local/lib/python3.8/dist-packages (from tensorflow-datasets->tf-models-official) (0.3.6)\n",
            "Requirement already satisfied: importlib-resources in /usr/local/lib/python3.8/dist-packages (from tensorflow-datasets->tf-models-official) (5.10.1)\n",
            "Requirement already satisfied: promise in /usr/local/lib/python3.8/dist-packages (from tensorflow-datasets->tf-models-official) (2.3)\n",
            "Requirement already satisfied: etils[epath] in /usr/local/lib/python3.8/dist-packages (from tensorflow-datasets->tf-models-official) (0.9.0)\n",
            "Requirement already satisfied: toml in /usr/local/lib/python3.8/dist-packages (from tensorflow-datasets->tf-models-official) (0.10.2)\n",
            "Building wheels for collected packages: seqeval\n",
            "  Building wheel for seqeval (setup.py) ... \u001b[?25l\u001b[?25hdone\n",
            "  Created wheel for seqeval: filename=seqeval-1.2.2-py3-none-any.whl size=16179 sha256=2d7611e378aeeed5096ace26eb2bf58b51c6fd11d780eb8235b28247d8b0bece\n",
            "  Stored in directory: /root/.cache/pip/wheels/ad/5c/ba/05fa33fa5855777b7d686e843ec07452f22a66a138e290e732\n",
            "Successfully built seqeval\n",
            "Installing collected packages: tensorflow-estimator, tensorboard, keras, flatbuffers, tensorflow, portalocker, colorama, tf-slim, tensorflow-text, tensorflow-model-optimization, tensorflow-addons, seqeval, sentencepiece, sacrebleu, pyyaml, py-cpuinfo, immutabledict, tf-models-official\n",
            "  Attempting uninstall: tensorflow-estimator\n",
            "    Found existing installation: tensorflow-estimator 2.9.0\n",
            "    Uninstalling tensorflow-estimator-2.9.0:\n",
            "      Successfully uninstalled tensorflow-estimator-2.9.0\n",
            "  Attempting uninstall: tensorboard\n",
            "    Found existing installation: tensorboard 2.9.1\n",
            "    Uninstalling tensorboard-2.9.1:\n",
            "      Successfully uninstalled tensorboard-2.9.1\n",
            "  Attempting uninstall: keras\n",
            "    Found existing installation: keras 2.9.0\n",
            "    Uninstalling keras-2.9.0:\n",
            "      Successfully uninstalled keras-2.9.0\n",
            "  Attempting uninstall: flatbuffers\n",
            "    Found existing installation: flatbuffers 1.12\n",
            "    Uninstalling flatbuffers-1.12:\n",
            "      Successfully uninstalled flatbuffers-1.12\n",
            "  Attempting uninstall: tensorflow\n",
            "    Found existing installation: tensorflow 2.9.2\n",
            "    Uninstalling tensorflow-2.9.2:\n",
            "      Successfully uninstalled tensorflow-2.9.2\n",
            "  Attempting uninstall: pyyaml\n",
            "    Found existing installation: PyYAML 6.0\n",
            "    Uninstalling PyYAML-6.0:\n",
            "      Successfully uninstalled PyYAML-6.0\n",
            "Successfully installed colorama-0.4.6 flatbuffers-22.12.6 immutabledict-2.2.3 keras-2.11.0 portalocker-2.6.0 py-cpuinfo-9.0.0 pyyaml-5.4.1 sacrebleu-2.3.1 sentencepiece-0.1.97 seqeval-1.2.2 tensorboard-2.11.0 tensorflow-2.11.0 tensorflow-addons-0.19.0 tensorflow-estimator-2.11.0 tensorflow-model-optimization-0.7.3 tensorflow-text-2.11.0 tf-models-official-2.11.2 tf-slim-1.1.0\n"
          ]
        }
      ],
      "source": [
        "!pip install tf-models-official # installing tensorflow models"
      ]
    },
    {
      "cell_type": "code",
      "execution_count": null,
      "metadata": {
        "colab": {
          "background_save": true,
          "base_uri": "https://localhost:8080/"
        },
        "id": "HGT2Moc1ayDE",
        "outputId": "7a26f8fd-2cc4-4529-9aa7-2989536d11af"
      },
      "outputs": [
        {
          "name": "stdout",
          "output_type": "stream",
          "text": [
            "Looking in indexes: https://pypi.org/simple, https://us-python.pkg.dev/colab-wheels/public/simple/\n",
            "Collecting transformers\n",
            "  Downloading transformers-4.25.1-py3-none-any.whl (5.8 MB)\n",
            "\u001b[K     |████████████████████████████████| 5.8 MB 18.8 MB/s \n",
            "\u001b[?25hRequirement already satisfied: numpy>=1.17 in /usr/local/lib/python3.8/dist-packages (from transformers) (1.21.6)\n",
            "Requirement already satisfied: requests in /usr/local/lib/python3.8/dist-packages (from transformers) (2.23.0)\n",
            "Requirement already satisfied: packaging>=20.0 in /usr/local/lib/python3.8/dist-packages (from transformers) (21.3)\n",
            "Collecting tokenizers!=0.11.3,<0.14,>=0.11.1\n",
            "  Downloading tokenizers-0.13.2-cp38-cp38-manylinux_2_17_x86_64.manylinux2014_x86_64.whl (7.6 MB)\n",
            "\u001b[K     |████████████████████████████████| 7.6 MB 79.4 MB/s \n",
            "\u001b[?25hRequirement already satisfied: regex!=2019.12.17 in /usr/local/lib/python3.8/dist-packages (from transformers) (2022.6.2)\n",
            "Requirement already satisfied: filelock in /usr/local/lib/python3.8/dist-packages (from transformers) (3.8.2)\n",
            "Requirement already satisfied: pyyaml>=5.1 in /usr/local/lib/python3.8/dist-packages (from transformers) (5.4.1)\n",
            "Collecting huggingface-hub<1.0,>=0.10.0\n",
            "  Downloading huggingface_hub-0.11.1-py3-none-any.whl (182 kB)\n",
            "\u001b[K     |████████████████████████████████| 182 kB 56.4 MB/s \n",
            "\u001b[?25hRequirement already satisfied: tqdm>=4.27 in /usr/local/lib/python3.8/dist-packages (from transformers) (4.64.1)\n",
            "Requirement already satisfied: typing-extensions>=3.7.4.3 in /usr/local/lib/python3.8/dist-packages (from huggingface-hub<1.0,>=0.10.0->transformers) (4.4.0)\n",
            "Requirement already satisfied: pyparsing!=3.0.5,>=2.0.2 in /usr/local/lib/python3.8/dist-packages (from packaging>=20.0->transformers) (3.0.9)\n",
            "Requirement already satisfied: idna<3,>=2.5 in /usr/local/lib/python3.8/dist-packages (from requests->transformers) (2.10)\n",
            "Requirement already satisfied: certifi>=2017.4.17 in /usr/local/lib/python3.8/dist-packages (from requests->transformers) (2022.12.7)\n",
            "Requirement already satisfied: chardet<4,>=3.0.2 in /usr/local/lib/python3.8/dist-packages (from requests->transformers) (3.0.4)\n",
            "Requirement already satisfied: urllib3!=1.25.0,!=1.25.1,<1.26,>=1.21.1 in /usr/local/lib/python3.8/dist-packages (from requests->transformers) (1.24.3)\n",
            "Installing collected packages: tokenizers, huggingface-hub, transformers\n",
            "Successfully installed huggingface-hub-0.11.1 tokenizers-0.13.2 transformers-4.25.1\n"
          ]
        }
      ],
      "source": [
        "!pip install transformers # installing hugging face library"
      ]
    },
    {
      "cell_type": "code",
      "execution_count": null,
      "metadata": {
        "colab": {
          "background_save": true
        },
        "id": "VbAUT56ZSr6v",
        "outputId": "811e7268-3a30-4e6f-a174-571fc2cb5f9b"
      },
      "outputs": [
        {
          "name": "stdout",
          "output_type": "stream",
          "text": [
            "Looking in indexes: https://pypi.org/simple, https://us-python.pkg.dev/colab-wheels/public/simple/\n",
            "Requirement already satisfied: tensorflow-addons in /usr/local/lib/python3.8/dist-packages (0.19.0)\n",
            "Requirement already satisfied: packaging in /usr/local/lib/python3.8/dist-packages (from tensorflow-addons) (21.3)\n",
            "Requirement already satisfied: typeguard>=2.7 in /usr/local/lib/python3.8/dist-packages (from tensorflow-addons) (2.7.1)\n",
            "Requirement already satisfied: pyparsing!=3.0.5,>=2.0.2 in /usr/local/lib/python3.8/dist-packages (from packaging->tensorflow-addons) (3.0.9)\n",
            "Looking in indexes: https://pypi.org/simple, https://us-python.pkg.dev/colab-wheels/public/simple/\n",
            "Collecting livelossplot\n",
            "  Downloading livelossplot-0.5.5-py3-none-any.whl (22 kB)\n",
            "Requirement already satisfied: bokeh in /usr/local/lib/python3.8/dist-packages (from livelossplot) (2.3.3)\n",
            "Requirement already satisfied: matplotlib in /usr/local/lib/python3.8/dist-packages (from livelossplot) (3.2.2)\n",
            "Requirement already satisfied: numpy>=1.11.3 in /usr/local/lib/python3.8/dist-packages (from bokeh->livelossplot) (1.21.6)\n",
            "Requirement already satisfied: Jinja2>=2.9 in /usr/local/lib/python3.8/dist-packages (from bokeh->livelossplot) (2.11.3)\n",
            "Requirement already satisfied: pillow>=7.1.0 in /usr/local/lib/python3.8/dist-packages (from bokeh->livelossplot) (7.1.2)\n",
            "Requirement already satisfied: tornado>=5.1 in /usr/local/lib/python3.8/dist-packages (from bokeh->livelossplot) (6.0.4)\n",
            "Requirement already satisfied: packaging>=16.8 in /usr/local/lib/python3.8/dist-packages (from bokeh->livelossplot) (21.3)\n",
            "Requirement already satisfied: PyYAML>=3.10 in /usr/local/lib/python3.8/dist-packages (from bokeh->livelossplot) (5.4.1)\n",
            "Requirement already satisfied: typing-extensions>=3.7.4 in /usr/local/lib/python3.8/dist-packages (from bokeh->livelossplot) (4.4.0)\n",
            "Requirement already satisfied: python-dateutil>=2.1 in /usr/local/lib/python3.8/dist-packages (from bokeh->livelossplot) (2.8.2)\n",
            "Requirement already satisfied: MarkupSafe>=0.23 in /usr/local/lib/python3.8/dist-packages (from Jinja2>=2.9->bokeh->livelossplot) (2.0.1)\n",
            "Requirement already satisfied: pyparsing!=3.0.5,>=2.0.2 in /usr/local/lib/python3.8/dist-packages (from packaging>=16.8->bokeh->livelossplot) (3.0.9)\n",
            "Requirement already satisfied: six>=1.5 in /usr/local/lib/python3.8/dist-packages (from python-dateutil>=2.1->bokeh->livelossplot) (1.15.0)\n",
            "Requirement already satisfied: kiwisolver>=1.0.1 in /usr/local/lib/python3.8/dist-packages (from matplotlib->livelossplot) (1.4.4)\n",
            "Requirement already satisfied: cycler>=0.10 in /usr/local/lib/python3.8/dist-packages (from matplotlib->livelossplot) (0.11.0)\n",
            "Installing collected packages: livelossplot\n",
            "Successfully installed livelossplot-0.5.5\n"
          ]
        }
      ],
      "source": [
        "!pip install tensorflow-addons # used in importing Chechpoint and Livelossplot\n",
        "!pip install livelossplot"
      ]
    },
    {
      "cell_type": "code",
      "execution_count": null,
      "metadata": {
        "id": "-JNe7MIB-WiV",
        "colab": {
          "base_uri": "https://localhost:8080/"
        },
        "outputId": "87940b59-5160-492d-dd3b-4fce0c07ffab"
      },
      "outputs": [
        {
          "metadata": {
            "tags": null
          },
          "name": "stdout",
          "output_type": "stream",
          "text": [
            "\u001b[K     |████████████████████████████████| 4.6 MB 32.9 MB/s \n",
            "\u001b[K     |█████████████████████████▏      | 402.9 MB 1.2 MB/s eta 0:01:31"
          ]
        }
      ],
      "source": [
        "!pip install -q -U \"tensorflow-text==2.9.*\""
      ]
    },
    {
      "cell_type": "code",
      "execution_count": null,
      "metadata": {
        "id": "dOdChKc4sD3p"
      },
      "outputs": [],
      "source": [
        "!pip install -U nltk"
      ]
    },
    {
      "cell_type": "markdown",
      "metadata": {
        "id": "W00JOlnYo5GH"
      },
      "source": [
        "# **Helper Functions**\n"
      ]
    },
    {
      "cell_type": "markdown",
      "metadata": {
        "id": "OqYVAYcRjQbM"
      },
      "source": [
        "## Data Cleaning"
      ]
    },
    {
      "cell_type": "code",
      "execution_count": null,
      "metadata": {
        "id": "bAOYXKf-jh3X"
      },
      "outputs": [],
      "source": [
        "import nltk\n",
        "import re # Used for cleaning HTML tags\n",
        "import string # Used for cleaning punctuation\n",
        "from gensim.parsing.preprocessing import remove_stopwords #used to remove stop words (unlike nltk it considers however as a stopword)\n",
        "from nltk.stem import WordNetLemmatizer\n",
        "from nltk.tokenize import word_tokenize\n",
        "\n",
        "#Downloading Word datasets used in lemmatization\n",
        "nltk.download('punkt')\n",
        "nltk.download('wordnet')\n",
        "nltk.download('omw-1.4')"
      ]
    },
    {
      "cell_type": "code",
      "execution_count": null,
      "metadata": {
        "id": "yOOcCSTSpCLa"
      },
      "outputs": [],
      "source": [
        "def preprocess(data):\n",
        "   lemmatizer = WordNetLemmatizer()\n",
        "   for i in data.index :  #Does the preprocess to each element in the dataset seperately\n",
        "    temptxt= data['review'][i]\n",
        "    temptxt= temptxt.translate(str.maketrans('', '', string.punctuation)) #Removes punctuations from string\n",
        "\n",
        "    temptxt= temptxt.lower() #Applies lowercase to the entire review string\n",
        "\n",
        "    temptxt= remove_stopwords(temptxt) #Removes stopwords from the review string\n",
        "\n",
        "\n",
        "\n",
        "    word_list = word_tokenize(temptxt) #Transforms review from String to a 1d array where each word is an element to lemmatize seperatly\n",
        "    clean_words= ' '.join([lemmatizer.lemmatize(w) for w in word_list])\n",
        "\n",
        "    data['review'][i]= clean_words\n",
        "   return data"
      ]
    },
    {
      "cell_type": "code",
      "execution_count": null,
      "metadata": {
        "id": "iW0hsSiCjce_"
      },
      "outputs": [],
      "source": [
        "def Remove_tag(data):\n",
        "   Cleaner =  re.compile('<.*?>')\n",
        "   for i in data.index :\n",
        "       data['review'][i]= re.sub(Cleaner,\"\", data['review'][i]) #Removes br tags\n",
        "   return data\n",
        ""
      ]
    },
    {
      "cell_type": "markdown",
      "metadata": {
        "id": "GlFM6P-8jcre"
      },
      "source": [
        "## Evaluation Metrics"
      ]
    },
    {
      "cell_type": "code",
      "execution_count": null,
      "metadata": {
        "id": "ZlNbkYtll8P8"
      },
      "outputs": [],
      "source": [
        "import numpy as np\n",
        "import matplotlib.pyplot as plt\n",
        "from sklearn.metrics import f1_score, confusion_matrix, ConfusionMatrixDisplay, accuracy_score, precision_score, recall_score"
      ]
    },
    {
      "cell_type": "code",
      "execution_count": null,
      "metadata": {
        "id": "Y0Sqos6ljj51"
      },
      "outputs": [],
      "source": [
        "def Eval (test_labels, y_pred):\n",
        "  f1 = f1_score(test_labels, y_pred)\n",
        "  confusion_mat = confusion_matrix(test_labels, y_pred, labels=[0,1])\n",
        "  accuracy = accuracy_score(test_labels, y_pred)\n",
        "  precision = precision_score(test_labels, y_pred)\n",
        "  recall = recall_score(test_labels, y_pred)\n",
        "  specificity = confusion_mat[1,1]/ (confusion_mat[1,0] + confusion_mat[1,1])\n",
        "\n",
        "  print(\"F1 Score   --> \", round(f1,3))\n",
        "  print(\"Accuracy   --> \", round(accuracy,3))\n",
        "  print(\"Precision  --> \", round(precision,3))\n",
        "  print(\"Specificty --> \", round(specificity,3))\n",
        "  print(\"Recall     --> \", round(recall,3))\n",
        "  print(\"Confusion Matrix :\\n\", confusion_mat)\n",
        "\n",
        "  disp = ConfusionMatrixDisplay(confusion_matrix = confusion_mat, display_labels = ['negative','positive'])\n",
        "  fig, ax = plt.subplots(figsize=(4,4))\n",
        "  disp.plot(ax = ax)\n",
        "  plt.show()"
      ]
    },
    {
      "cell_type": "markdown",
      "metadata": {
        "id": "o8LCAKBlsjUv"
      },
      "source": [
        "## Early Stopping"
      ]
    },
    {
      "cell_type": "code",
      "execution_count": null,
      "metadata": {
        "id": "8zA-rW_tsqZp"
      },
      "outputs": [],
      "source": [
        "from tensorflow.keras.callbacks import EarlyStopping"
      ]
    },
    {
      "cell_type": "code",
      "execution_count": null,
      "metadata": {
        "id": "TKf3GqdzsrTl"
      },
      "outputs": [],
      "source": [
        "# Stop training early if, after 5 epochs, validation accuracy doesn't increase.\n",
        "stop_early = EarlyStopping(\n",
        "    patience=5,\n",
        "    monitor='val_binary_accuracy',\n",
        "    restore_best_weights=True, # restore the model back to the best state\n",
        ")"
      ]
    },
    {
      "cell_type": "markdown",
      "metadata": {
        "id": "Fg58MV4wV1dT"
      },
      "source": [
        "# **Preprocessing Text Data**"
      ]
    },
    {
      "cell_type": "code",
      "execution_count": null,
      "metadata": {
        "id": "BQkSkvTpQDSJ"
      },
      "outputs": [],
      "source": [
        "import pandas as pd # Read csv file\n",
        "df= pd.read_csv('Movie_Reviews.csv')\n",
        "df.head()"
      ]
    },
    {
      "cell_type": "code",
      "execution_count": null,
      "metadata": {
        "id": "ln8yJlfNkxxh"
      },
      "outputs": [],
      "source": [
        "Data_nrm = Remove_tag(df) #Removing Break HTML tags in text"
      ]
    },
    {
      "cell_type": "markdown",
      "metadata": {
        "id": "nQNL51ylhvWN"
      },
      "source": [
        "##Normal Data\n",
        "\n",
        "\n"
      ]
    },
    {
      "cell_type": "code",
      "execution_count": null,
      "metadata": {
        "id": "b1aKtgJGjWh3"
      },
      "outputs": [],
      "source": [
        "#This is the normal dataset where it isn't preprocessed\n",
        "\n",
        "Data_nrm['binary']=Data_nrm['sentiment'].apply(lambda x: 1 if x=='negative' else 0) # Adding a layer of binary numbers to dataset for encoding and decoding\n",
        "df.head()"
      ]
    },
    {
      "cell_type": "code",
      "execution_count": null,
      "metadata": {
        "id": "9vK7OFgEjWh4"
      },
      "outputs": [],
      "source": [
        "from sklearn.model_selection import train_test_split\n",
        "#Splitting normal data  into train and test datasets\n",
        "train_nrm, test_nrm, train_labels_nrm, test_labels_nrm = train_test_split(\n",
        "    Data_nrm['review'],\n",
        "    Data_nrm['binary'],\n",
        "    test_size=0.2\n",
        ")\n"
      ]
    },
    {
      "cell_type": "markdown",
      "metadata": {
        "id": "gpdR7iKghfLK"
      },
      "source": [
        "##Preprocessed Data\n",
        "\n",
        "\n"
      ]
    },
    {
      "cell_type": "code",
      "execution_count": null,
      "metadata": {
        "id": "dY8ORhaqux7U"
      },
      "outputs": [],
      "source": [
        "#Using helper function We preprocess the data to Remove Punctiuations,to change uppercased letters to lower case,remove stop words and Finally lemmatize each word\n",
        "Data_pre=preprocess(Data_nrm)"
      ]
    },
    {
      "cell_type": "code",
      "execution_count": null,
      "metadata": {
        "id": "ruTj-mauUVCM"
      },
      "outputs": [],
      "source": [
        "Data_pre['binary']=Data_pre['sentiment'].apply(lambda x: 1 if x=='negative' else 0) # Adding a layer of binary numbers to dataset for encoding and decoding\n",
        "df.head()"
      ]
    },
    {
      "cell_type": "code",
      "execution_count": null,
      "metadata": {
        "id": "6nWxu_mMu1Np"
      },
      "outputs": [],
      "source": [
        "from sklearn.model_selection import train_test_split\n",
        "\n",
        "#Splitting preprocessed dataset into train and test datasets\n",
        "\n",
        "train_pre, test_pre, train_labels_pre, test_labels_pre = train_test_split(\n",
        "    Data_pre['review'],\n",
        "    Data_pre['binary'],\n",
        "    test_size=0.2\n",
        ")\n"
      ]
    },
    {
      "cell_type": "markdown",
      "metadata": {
        "id": "4rsGhfOMo1ZP"
      },
      "source": [
        "# **Optimizer**"
      ]
    },
    {
      "cell_type": "code",
      "execution_count": null,
      "metadata": {
        "id": "QHKwIbrEpSEH"
      },
      "outputs": [],
      "source": [
        "import tensorflow as tf\n",
        "from tensorflow import keras\n",
        "from keras.optimizers import Adam, Optimizer\n",
        "from official.nlp import optimization\n",
        "import tensorflow_text as text\n",
        "import tensorflow_hub as hub"
      ]
    },
    {
      "cell_type": "code",
      "execution_count": null,
      "metadata": {
        "id": "rcifDzs1pNqs"
      },
      "outputs": [],
      "source": [
        "def optimizer(n,lr,data):\n",
        " epochs = n\n",
        " init_lr = lr\n",
        " train_dataset = tf.data.Dataset.from_tensor_slices(data)\n",
        " steps_per_epoch = tf.data.experimental.cardinality(train_dataset).numpy()\n",
        " num_train_steps = steps_per_epoch * epochs\n",
        " num_warmup_steps = int(0.1*num_train_steps)\n",
        "\n",
        " op = optimization.create_optimizer(init_lr = init_lr,\n",
        "                                              num_train_steps = num_train_steps,\n",
        "                                              num_warmup_steps = num_warmup_steps,\n",
        "                                              optimizer_type='adamw')\n",
        " return op"
      ]
    },
    {
      "cell_type": "markdown",
      "metadata": {
        "id": "drSa6LVKK9KC"
      },
      "source": [
        "# **BERT Model**"
      ]
    },
    {
      "cell_type": "markdown",
      "metadata": {
        "id": "KVoUIeEuuX5C"
      },
      "source": [
        "### **Building Model**\n"
      ]
    },
    {
      "cell_type": "code",
      "execution_count": null,
      "metadata": {
        "id": "K0F4vdIJB1Kt"
      },
      "outputs": [],
      "source": [
        "import tensorflow as tf\n",
        "import tensorflow_text as text\n",
        "import tensorflow_hub as hub\n",
        "from tensorflow.keras import Sequential\n",
        "from tensorflow.keras.layers import Dense,Dropout\n",
        "from tensorflow.keras.optimizers import Adam,Optimizer\n",
        "from tensorflow.keras.losses import binary_crossentropy"
      ]
    },
    {
      "cell_type": "code",
      "execution_count": null,
      "metadata": {
        "id": "PSfhjQyl2OiU"
      },
      "outputs": [],
      "source": [
        "BERT_preprocess = hub.KerasLayer('https://tfhub.dev/tensorflow/bert_en_uncased_preprocess/3',name=\"preprocessing\")\n",
        "#Getting tokenizer from kerashub that will tokenize our data\n",
        "\n",
        "BERT_encoder = hub.KerasLayer('https://tfhub.dev/tensorflow/bert_en_uncased_L-12_H-768_A-12/4',name=\"encoder\",trainable= True)\n",
        "#Getting BERT model that is already pretrained"
      ]
    },
    {
      "cell_type": "code",
      "execution_count": null,
      "metadata": {
        "id": "kB-O7vDwLGDN"
      },
      "outputs": [],
      "source": [
        "# Bert layers\n",
        "text_input = tf.keras.layers.Input(shape=(), dtype=tf.string, name='text')\n",
        "preprocessed_text = BERT_preprocess(text_input)\n",
        "outputs = BERT_encoder(preprocessed_text)\n",
        "# Neural network layers\n",
        "l = tf.keras.layers.Dropout(0.5, name=\"Dropout\")(outputs['pooled_output'])\n",
        "for i in [512,256,128,64]:\n",
        "    l = tf.keras.layers.Dense(i, activation='sigmoid', name=\"Dense_Layer_\" + str(i))(l)\n",
        "l = tf.keras.layers.Dense(1,activation='sigmoid',name=\"output\")(l)\n",
        "# Use inputs and outputs to construct a final model\n",
        "BERT_model = tf.keras.Model(inputs=text_input, outputs = l)"
      ]
    },
    {
      "cell_type": "code",
      "execution_count": null,
      "metadata": {
        "id": "8op3DNHWOcmX",
        "colab": {
          "base_uri": "https://localhost:8080/",
          "height": 856
        },
        "outputId": "7d56e97b-51a2-452b-b41e-a7e3cb1f66e0"
      },
      "outputs": [
        {
          "output_type": "execute_result",
          "data": {
            "image/png": "[encoded data removed]",
            "text/plain": [
              "<IPython.core.display.Image object>"
            ]
          },
          "metadata": {},
          "execution_count": 28
        }
      ],
      "source": [
        "tf.keras.utils.plot_model(BERT_model)"
      ]
    },
    {
      "cell_type": "markdown",
      "metadata": {
        "id": "MQZc5RcCnSpx"
      },
      "source": [
        "## With Preprocessing"
      ]
    },
    {
      "cell_type": "markdown",
      "metadata": {
        "id": "4bj2jy6_uuch"
      },
      "source": [
        "### **Training**"
      ]
    },
    {
      "cell_type": "code",
      "execution_count": null,
      "metadata": {
        "id": "iwwoMI3MSkjk"
      },
      "outputs": [],
      "source": [
        "from tensorflow.keras.callbacks import ModelCheckpoint\n",
        "from livelossplot import PlotLossesKeras\n",
        "\n",
        "save_weights = ModelCheckpoint(   # Saving Weights where validation accuracy is the best\n",
        "    filepath='/content/drive/MyDrive/Text_checkpoints/Bert_pre/checkpoint',\n",
        "    monitor='val_binary_accuracy',\n",
        "    save_best_only=True,\n",
        "    save_weights_only=True,\n",
        ")"
      ]
    },
    {
      "cell_type": "code",
      "execution_count": null,
      "metadata": {
        "id": "ruCkXIfiSXSy"
      },
      "outputs": [],
      "source": [
        "epochs = 5\n",
        "lr = 3e-4\n",
        "BERT_model.compile(optimizer=optimizer(epochs,lr,train_pre),\n",
        "                         loss=\"binary_crossentropy\",\n",
        "                          metrics=\"binary_accuracy\")"
      ]
    },
    {
      "cell_type": "code",
      "execution_count": null,
      "metadata": {
        "id": "7BSYEMc8WLNv",
        "colab": {
          "base_uri": "https://localhost:8080/"
        },
        "outputId": "e1783c54-c09c-462c-da15-576190052365"
      },
      "outputs": [
        {
          "output_type": "stream",
          "name": "stdout",
          "text": [
            "Epoch 1/5\n",
            " 227/1094 [=====>........................] - ETA: 13:16 - loss: 0.6931 - binary_accuracy: 0.5026"
          ]
        }
      ],
      "source": [
        "tf.autograph.experimental.do_not_convert(\n",
        "    func=None\n",
        ")\n",
        "BERT_model.fit(x=train_pre,\n",
        "          y=train_labels_pre,\n",
        "          validation_split = 0.125 ,\n",
        "          batch_size =32,\n",
        "          epochs=epochs,\n",
        "           callbacks =[stop_early,PlotLossesKeras(),save_weights])"
      ]
    },
    {
      "cell_type": "markdown",
      "metadata": {
        "id": "8qHLTFs10nIo"
      },
      "source": [
        "###Testing"
      ]
    },
    {
      "cell_type": "code",
      "execution_count": null,
      "metadata": {
        "id": "70oIvCTjh7g7"
      },
      "outputs": [],
      "source": [
        "BERT_model.load_weights('/content/drive/MyDrive/Text_checkpoints/Bert_pre/checkpoint')"
      ]
    },
    {
      "cell_type": "code",
      "execution_count": null,
      "metadata": {
        "id": "8KqpxER7APcf"
      },
      "outputs": [],
      "source": [
        "BERT_model.evaluate(test_pre,test_labels_pre)"
      ]
    },
    {
      "cell_type": "code",
      "execution_count": null,
      "metadata": {
        "id": "mHCb13_L35aD"
      },
      "outputs": [],
      "source": [
        "prediction = BERT_model.predict(test_pre)"
      ]
    },
    {
      "cell_type": "markdown",
      "metadata": {
        "id": "zN0_AU3_l5fS"
      },
      "source": [
        "### Evaluation Metrics"
      ]
    },
    {
      "cell_type": "code",
      "execution_count": null,
      "metadata": {
        "id": "jxpQTwk50zpN"
      },
      "outputs": [],
      "source": [
        "y_preds = prediction.flatten()\n",
        "y_preds = np.where(y_preds > 0.5, 1, 0)"
      ]
    },
    {
      "cell_type": "code",
      "execution_count": null,
      "metadata": {
        "id": "de_bAIermCg3"
      },
      "outputs": [],
      "source": [
        "Eval(test_labels_pre, y_preds)"
      ]
    },
    {
      "cell_type": "markdown",
      "metadata": {
        "id": "v80iTdlfn2eE"
      },
      "source": [
        "##Without Preprocessing\n"
      ]
    },
    {
      "cell_type": "markdown",
      "metadata": {
        "id": "notyjDqzvFdy"
      },
      "source": [
        "### **Training**"
      ]
    },
    {
      "cell_type": "code",
      "execution_count": null,
      "metadata": {
        "id": "dT0az8FVO8Ma"
      },
      "outputs": [],
      "source": [
        "from tensorflow.keras.callbacks import ModelCheckpoint\n",
        "from livelossplot import PlotLossesKeras\n",
        "\n",
        "save_weights = ModelCheckpoint(\n",
        "    filepath='/content/drive/MyDrive/Text_checkpoints/Bert_nrm/checkpoint',\n",
        "    monitor='val_binary_accuracy',\n",
        "    save_best_only=True,\n",
        "    save_weights_only=True,\n",
        ")"
      ]
    },
    {
      "cell_type": "code",
      "execution_count": null,
      "metadata": {
        "id": "FecCuH49n0c9"
      },
      "outputs": [],
      "source": [
        "epochs = 10\n",
        "lr = 3e-4\n",
        "BERT_model.compile(optimizer=optimizer(epochs,lr,train_nrm),\n",
        "                         loss=\"binary_crossentropy\",\n",
        "                          metrics=\"binary_accuracy\")"
      ]
    },
    {
      "cell_type": "code",
      "execution_count": null,
      "metadata": {
        "id": "Kx84wkKSn0c9"
      },
      "outputs": [],
      "source": [
        "tf.autograph.experimental.do_not_convert(\n",
        "    func=None\n",
        ")\n",
        "BERT_model.fit(x=train_nrm,\n",
        "          y=train_labels_nrm,\n",
        "          validation_split = 0.125 ,\n",
        "          batch_size =32,\n",
        "          epochs=epochs,\n",
        "          callbacks =[stop_early,PlotLossesKeras(),save_weights])"
      ]
    },
    {
      "cell_type": "markdown",
      "metadata": {
        "id": "Di8IgmLw69vK"
      },
      "source": [
        "###Testing"
      ]
    },
    {
      "cell_type": "code",
      "execution_count": null,
      "metadata": {
        "id": "sxQwt0w-hIVA"
      },
      "outputs": [],
      "source": [
        "BERT_model.load_weights('/content/drive/MyDrive/Text_checkpoints/Bert_nrm/checkpoint')"
      ]
    },
    {
      "cell_type": "code",
      "execution_count": null,
      "metadata": {
        "id": "ZGrDwsi_n0c9"
      },
      "outputs": [],
      "source": [
        "BERT_model.evaluate(test_nrm,test_labels_nrm)"
      ]
    },
    {
      "cell_type": "code",
      "execution_count": null,
      "metadata": {
        "id": "9dVayTjY69vM"
      },
      "outputs": [],
      "source": [
        "prediction = BERT_model.predict(test_nrm)"
      ]
    },
    {
      "cell_type": "markdown",
      "metadata": {
        "id": "N1w8-RoKmUwE"
      },
      "source": [
        "### Evaluation Metrics"
      ]
    },
    {
      "cell_type": "code",
      "execution_count": null,
      "metadata": {
        "id": "y6jAI4mR69vM"
      },
      "outputs": [],
      "source": [
        "y_preds = prediction.flatten()\n",
        "y_preds = np.where(y_preds > 0.5, 1, 0)"
      ]
    },
    {
      "cell_type": "code",
      "execution_count": null,
      "metadata": {
        "id": "GSAtrcsn69vN"
      },
      "outputs": [],
      "source": [
        "Eval(test_labels_nrm, y_preds)"
      ]
    },
    {
      "cell_type": "markdown",
      "metadata": {
        "id": "pzJqgetjn-nc"
      },
      "source": [
        "# **ROBERTA Model**"
      ]
    },
    {
      "cell_type": "markdown",
      "metadata": {
        "id": "SAUpvuhkvaJL"
      },
      "source": [
        "### **Building Model**"
      ]
    },
    {
      "cell_type": "code",
      "execution_count": null,
      "metadata": {
        "id": "QVruXxoF8G8p"
      },
      "outputs": [],
      "source": [
        "import tensorflow as tf\n",
        "import tensorflow_text as text\n",
        "import tensorflow_hub as hub\n",
        "from tensorflow.keras import Sequential\n",
        "from tensorflow.keras.layers import Dense,Dropout\n",
        "from tensorflow.keras.optimizers import Adam,Optimizer\n",
        "from tensorflow.keras.losses import binary_crossentropy\n",
        "from official.nlp import optimization  # to create AdamW optimizer\n",
        "import tensorflow as tf\n",
        "from transformers import RobertaTokenizer, TFRobertaModel\n",
        "from tensorflow.keras import Sequential\n",
        "from tensorflow.keras.layers import Dropout,Dense\n",
        "\n"
      ]
    },
    {
      "cell_type": "code",
      "execution_count": null,
      "metadata": {
        "id": "BxmXJrO-b6Zm"
      },
      "outputs": [],
      "source": [
        "tokenizer = RobertaTokenizer.from_pretrained('roberta-base')\n",
        "def tokenize(data):\n",
        "    return dict(                    # Convert the output to a dictionary to use it in model.fit().\n",
        "        tokenizer(\n",
        "            list(data),             # The tokenizer accepts a string or a list of string.\n",
        "            padding=\"max_length\",           # Apply padding and truncation so that all text,\n",
        "            truncation=True,        # short or long, have the same length.\n",
        "            return_tensors='tf',   # Return tensorflow tensors instead of pytorch.\n",
        "        )\n",
        "    )"
      ]
    },
    {
      "cell_type": "code",
      "execution_count": null,
      "metadata": {
        "colab": {
          "base_uri": "https://localhost:8080/"
        },
        "id": "24DLVnPqo73T",
        "outputId": "e81af068-3d89-4a42-9567-9a741f709ecf"
      },
      "outputs": [
        {
          "name": "stderr",
          "output_type": "stream",
          "text": [
            "Some layers from the model checkpoint at roberta-base were not used when initializing TFRobertaModel: ['lm_head']\n",
            "- This IS expected if you are initializing TFRobertaModel from the checkpoint of a model trained on another task or with another architecture (e.g. initializing a BertForSequenceClassification model from a BertForPreTraining model).\n",
            "- This IS NOT expected if you are initializing TFRobertaModel from the checkpoint of a model that you expect to be exactly identical (initializing a BertForSequenceClassification model from a BertForSequenceClassification model).\n",
            "All the layers of TFRobertaModel were initialized from the model checkpoint at roberta-base.\n",
            "If your task is similar to the task the model of the checkpoint was trained on, you can already use TFRobertaModel for predictions without further training.\n"
          ]
        }
      ],
      "source": [
        "# ROBERTA layers\n",
        "input_ids = tf.keras.layers.Input(shape=(512,), dtype= \"int32\", name = \"input_ids\")\n",
        "input_masks = tf.keras.layers.Input(shape=(512,), dtype = \"int32\",name = \"attention_mask\")\n",
        "inputs = [input_ids,input_masks]\n",
        "\n",
        "output= TFRobertaModel.from_pretrained(\"roberta-base\")(inputs)\n",
        "output = output.pooler_output\n",
        "\n",
        "for i in [512,256,128,64]:\n",
        "   output = tf.keras.layers.Dense(i, activation='relu', name=\"Dense_Layer_\" + str(i))(output)\n",
        "\n",
        "output = Dropout(0.3)(output)\n",
        "output = Dense(1, activation=\"sigmoid\")(output)\n",
        "ROBERTA_model = tf.keras.Model(inputs = inputs, outputs = output)\n",
        "\n"
      ]
    },
    {
      "cell_type": "code",
      "execution_count": null,
      "metadata": {
        "colab": {
          "base_uri": "https://localhost:8080/",
          "height": 758
        },
        "id": "suRtdeNbpONk",
        "outputId": "11970115-92fc-434a-e997-3c56fde53dfa"
      },
      "outputs": [
        {
          "data": {
            "image/png": "[encoded data removed]",
            "text/plain": [
              "<IPython.core.display.Image object>"
            ]
          },
          "execution_count": 39,
          "metadata": {},
          "output_type": "execute_result"
        }
      ],
      "source": [
        "tf.keras.utils.plot_model(ROBERTA_model)"
      ]
    },
    {
      "cell_type": "markdown",
      "metadata": {
        "id": "LacimuJnrIl9"
      },
      "source": [
        "## With Preprocessing\n",
        "\n"
      ]
    },
    {
      "cell_type": "markdown",
      "metadata": {
        "id": "sK-VfJsuvuy8"
      },
      "source": [
        "### **Training**"
      ]
    },
    {
      "cell_type": "code",
      "execution_count": null,
      "metadata": {
        "id": "lPI3sF3AcEQE"
      },
      "outputs": [],
      "source": [
        "train_pre_tok = tokenize(train_pre)\n",
        "test_pre_tok = tokenize(test_pre)"
      ]
    },
    {
      "cell_type": "code",
      "execution_count": null,
      "metadata": {
        "id": "IfAL127FPDl_"
      },
      "outputs": [],
      "source": [
        "from tensorflow.keras.callbacks import EarlyStopping, ModelCheckpoint\n",
        "from livelossplot import PlotLossesKeras\n",
        "\n",
        "tf.autograph.experimental.do_not_convert(\n",
        "    func=None\n",
        ")\n",
        "save_weights = ModelCheckpoint(\n",
        "    filepath='/content/drive/MyDrive/Text_checkpoints/Robert_pre/checkpoint',\n",
        "    monitor='val_binary_accuracy',\n",
        "    save_best_only=True,\n",
        "    save_weights_only=True,\n",
        ")"
      ]
    },
    {
      "cell_type": "code",
      "execution_count": null,
      "metadata": {
        "id": "t04JFgccrImF"
      },
      "outputs": [],
      "source": [
        "epochs = 3\n",
        "lr = 1e-5\n",
        "ROBERTA_model.compile(optimizer=optimizer(epochs,lr,train_pre),\n",
        "                         loss=\"binary_crossentropy\",\n",
        "                          metrics=\"binary_accuracy\")"
      ]
    },
    {
      "cell_type": "code",
      "execution_count": null,
      "metadata": {
        "id": "bCjBdm4lrImF"
      },
      "outputs": [],
      "source": [
        "tf.autograph.experimental.do_not_convert(\n",
        "    func=None\n",
        ")\n",
        "ROBERTA_model.fit(x=train_pre_tok,\n",
        "          y=train_labels_pre,\n",
        "          validation_split = 0.125 ,\n",
        "          batch_size =8,\n",
        "          epochs=epochs,\n",
        "           callbacks =[stop_early,PlotLossesKeras(),save_weights])"
      ]
    },
    {
      "cell_type": "markdown",
      "metadata": {
        "id": "0YQss4Bc7Qt0"
      },
      "source": [
        "### **Testing**"
      ]
    },
    {
      "cell_type": "code",
      "execution_count": null,
      "metadata": {
        "id": "yOBC4ezq7Qt5"
      },
      "outputs": [],
      "source": [
        "#ROBERTA_model.load_weights('/content/drive/MyDrive/Text_checkpoints/Roberta_pre/checkpoint')"
      ]
    },
    {
      "cell_type": "code",
      "execution_count": null,
      "metadata": {
        "id": "5st--k8RrImF"
      },
      "outputs": [],
      "source": [
        "ROBERTA_model.evaluate(test_pre_tok,test_labels_pre)"
      ]
    },
    {
      "cell_type": "code",
      "execution_count": null,
      "metadata": {
        "id": "JT_uc8_g7Qt5"
      },
      "outputs": [],
      "source": [
        "prediction = ROBERTA_model.predict(test_pre_tok)"
      ]
    },
    {
      "cell_type": "markdown",
      "metadata": {
        "id": "4sFW0L73nIyo"
      },
      "source": [
        "### Evaluation Metrics"
      ]
    },
    {
      "cell_type": "code",
      "execution_count": null,
      "metadata": {
        "id": "WgzULhw77Qt6"
      },
      "outputs": [],
      "source": [
        "y_preds = prediction.flatten()\n",
        "y_preds = np.where(y_preds > 0.5, 1, 0)"
      ]
    },
    {
      "cell_type": "code",
      "execution_count": null,
      "metadata": {
        "id": "9Wr7lPdD7Qt6"
      },
      "outputs": [],
      "source": [
        "Eval(test_labels_pre, y_preds)"
      ]
    },
    {
      "cell_type": "markdown",
      "metadata": {
        "id": "K59h9WPKrsDh"
      },
      "source": [
        "## Without Preprocessing"
      ]
    },
    {
      "cell_type": "markdown",
      "metadata": {
        "id": "bUVS0w22v2oM"
      },
      "source": [
        "### **Training**"
      ]
    },
    {
      "cell_type": "code",
      "execution_count": null,
      "metadata": {
        "id": "6X0RqU6CfVOd"
      },
      "outputs": [],
      "source": [
        "train_nrm_tok = tokenize(train_nrm)\n",
        "test_nrm_tok = tokenize(test_nrm)"
      ]
    },
    {
      "cell_type": "code",
      "execution_count": null,
      "metadata": {
        "id": "OoPq3G3WPLVX"
      },
      "outputs": [],
      "source": [
        "from tensorflow.keras.callbacks import EarlyStopping, ModelCheckpoint\n",
        "from livelossplot import PlotLossesKeras\n",
        "\n",
        "tf.autograph.experimental.do_not_convert(\n",
        "    func=None\n",
        ")\n",
        "save_weights = ModelCheckpoint(\n",
        "    filepath='/content/drive/MyDrive/Text_checkpoints/Robert_nrm/checkpoint',\n",
        "    monitor='val_binary_accuracy',\n",
        "    save_best_only=True,\n",
        "    save_weights_only=True,\n",
        ")"
      ]
    },
    {
      "cell_type": "code",
      "execution_count": null,
      "metadata": {
        "id": "3yZ-jfIersDh"
      },
      "outputs": [],
      "source": [
        "epochs = 3\n",
        "lr = 1e-5\n",
        "ROBERTA_model.compile(optimizer=optimizer(epochs,lr,train_nrm),\n",
        "                         loss=\"binary_crossentropy\",\n",
        "                          metrics=\"binary_accuracy\")"
      ]
    },
    {
      "cell_type": "code",
      "execution_count": null,
      "metadata": {
        "id": "VcHN6FqXrsDi"
      },
      "outputs": [],
      "source": [
        "tf.autograph.experimental.do_not_convert(\n",
        "    func=None\n",
        ")\n",
        "ROBERTA_model.fit(x=train_nrm_tok,\n",
        "          y=train_labels_nrm,\n",
        "          validation_split = 0.125 ,\n",
        "          batch_size =8,\n",
        "          epochs=epochs,\n",
        "          callbacks =[stop_early,PlotLossesKeras(),save_weights])"
      ]
    },
    {
      "cell_type": "markdown",
      "metadata": {
        "id": "ky1lFIFA7gVS"
      },
      "source": [
        "### **Testing**"
      ]
    },
    {
      "cell_type": "code",
      "execution_count": null,
      "metadata": {
        "colab": {
          "base_uri": "https://localhost:8080/"
        },
        "id": "ruvWXmAP7gVX",
        "outputId": "4bf0c79a-80e8-4b4f-f11b-b895ea2e587b"
      },
      "outputs": [
        {
          "data": {
            "text/plain": [
              "<tensorflow.python.training.tracking.util.CheckpointLoadStatus at 0x7f65319c0460>"
            ]
          },
          "execution_count": 36,
          "metadata": {},
          "output_type": "execute_result"
        }
      ],
      "source": [
        "#ROBERTA_model.load_weights('/content/drive/MyDrive/Text_checkpoints/Roberta_nrm/checkpoint')"
      ]
    },
    {
      "cell_type": "code",
      "execution_count": null,
      "metadata": {
        "id": "6WtWoajDrsDi"
      },
      "outputs": [],
      "source": [
        "ROBERTA_model.evaluate(test_nrm_tok,test_labels_nrm)"
      ]
    },
    {
      "cell_type": "code",
      "execution_count": null,
      "metadata": {
        "colab": {
          "base_uri": "https://localhost:8080/"
        },
        "id": "DhHUiu5C7gVY",
        "outputId": "63dfc479-8b6e-4069-c13b-8a28e5b09d50"
      },
      "outputs": [
        {
          "name": "stdout",
          "output_type": "stream",
          "text": [
            "313/313 [==============================] - 101s 322ms/step\n"
          ]
        }
      ],
      "source": [
        "prediction = ROBERTA_model.predict(test_nrm_tok)"
      ]
    },
    {
      "cell_type": "markdown",
      "metadata": {
        "id": "Ye4HL4wnm3Xr"
      },
      "source": [
        "### Evaluation Metrics"
      ]
    },
    {
      "cell_type": "code",
      "execution_count": null,
      "metadata": {
        "id": "r8jGekTI7gVY"
      },
      "outputs": [],
      "source": [
        "y_preds = prediction.flatten()\n",
        "y_preds = np.where(y_preds > 0.5, 1, 0)"
      ]
    },
    {
      "cell_type": "code",
      "execution_count": null,
      "metadata": {
        "colab": {
          "base_uri": "https://localhost:8080/"
        },
        "id": "spFJPjVk7gVY",
        "outputId": "1921f428-05b4-4e17-8853-773f61950d93"
      },
      "outputs": [
        {
          "name": "stdout",
          "output_type": "stream",
          "text": [
            "F1 Score   -->  0.949\n",
            "Accuracy   -->  0.949\n",
            "Precision  -->  0.952\n",
            "Specificty -->  0.947\n",
            "Recall     -->  0.947\n",
            "Confusion Matrix :\n",
            " [[4722  243]\n",
            " [ 266 4769]]\n"
          ]
        }
      ],
      "source": [
        "Eval(test_labels_nrm, y_preds)"
      ]
    },
    {
      "cell_type": "code",
      "execution_count": null,
      "metadata": {
        "colab": {
          "base_uri": "https://localhost:8080/",
          "height": 260
        },
        "id": "ROexHjwg7gVY",
        "outputId": "268c7de5-c4c5-434b-a35e-c8cb51eac368"
      },
      "outputs": [
        {
          "data": {
            "image/png": "[encoded data removed]",
            "text/plain": [
              "<Figure size 288x288 with 2 Axes>"
            ]
          },
          "metadata": {},
          "output_type": "display_data"
        }
      ],
      "source": []
    },
    {
      "cell_type": "markdown",
      "metadata": {
        "id": "syjnypXeapk8"
      },
      "source": [
        "# **RNN Model**"
      ]
    },
    {
      "cell_type": "code",
      "execution_count": null,
      "metadata": {
        "id": "G9uCrKuFazC2"
      },
      "outputs": [],
      "source": [
        "import numpy as np\n",
        "import tensorflow as tf\n",
        "from tensorflow import keras\n",
        "from keras.models import Sequential\n",
        "from keras import Input\n",
        "from keras.layers import Dense, LSTM, Embedding, Dropout, Bidirectional\n",
        "from keras.optimizers import Adam, Optimizer\n",
        "from keras.losses import binary_crossentropy\n",
        "from keras.callbacks import ModelCheckpoint\n",
        "from livelossplot import PlotLossesKeras\n",
        "from tensorflow.keras.layers.experimental.preprocessing import TextVectorization"
      ]
    },
    {
      "cell_type": "markdown",
      "metadata": {
        "id": "Jc8tkUdJekaC"
      },
      "source": [
        "##With Preprocessing"
      ]
    },
    {
      "cell_type": "markdown",
      "metadata": {
        "id": "yWXTf-Xia8XI"
      },
      "source": [
        "### Building The Model\n",
        "\n"
      ]
    },
    {
      "cell_type": "code",
      "execution_count": null,
      "metadata": {
        "id": "PX2HSZNqa2fo"
      },
      "outputs": [],
      "source": [
        "max_tokens = 1000 #vocab size\n",
        "max_len = 100\n",
        "##Text Vectorization (Encoder)\n",
        "# This layer processes the input string and turns it into a sequence of\n",
        "# max_len integers, each of which maps to a certain token.\n",
        "encoder = TextVectorization(\n",
        "  # Max vocab size. Any words outside of the max_tokens most common ones\n",
        "  # will be treated the same way: as \"out of vocabulary\" (OOV) tokens.\n",
        "  max_tokens=max_tokens,\n",
        "  # Output integer indices, one per string token\n",
        "  output_mode=\"int\",\n",
        "  # Always pad or truncate to exactly this many tokens\n",
        "  output_sequence_length=max_len,\n",
        ")"
      ]
    },
    {
      "cell_type": "code",
      "execution_count": null,
      "metadata": {
        "id": "QXhT2btOff_s"
      },
      "outputs": [],
      "source": [
        "# Call adapt(), which fits the TextVectorization layer to our text dataset.\n",
        "# This is when the max_tokens most common words (i.e. the vocabulary) are selected.\n",
        "encoder.adapt(train_pre)"
      ]
    },
    {
      "cell_type": "code",
      "execution_count": null,
      "metadata": {
        "id": "0QcGC57Aa4h1"
      },
      "outputs": [],
      "source": [
        "#Sequential model is used here since all the layers in the model only have single input and produce single output.\n",
        "RNN_model = Sequential()\n",
        "RNN_model.add(Input(shape=(1,), dtype=\"string\"))\n",
        "#The first layer is the encoder, which converts the text to a sequence of token indices\n",
        "RNN_model.add(encoder)\n",
        "#This layer turns each integer (representing a token) from the previous layer\n",
        "#An embedding layer stores one vector per word. When called,\n",
        "#it converts the sequences of word indices to sequences of vectors.\n",
        "#These vectors are trainable. After training (on enough data),\n",
        "#words with similar meanings often have similar vectors.\n",
        "#The embedding layer uses masking to handle the varying sequence-lengths. All the layers after the Embedding support masking:\n",
        "# Note that we're using max_tokens + 1 here, since there's an\n",
        "# out-of-vocabulary (OOV) token that gets added to the vocab.\n",
        "RNN_model.add(Embedding((max_tokens + 1), 128))\n",
        "#The RNN Layer processes sequence input by iterating through the elements.\n",
        "#RNNs pass the outputs from one timestep to their input on the next timestep.\n",
        "##The main advantage of a bidirectional RNN is that the signal from the beginning of the input doesn't need to be processed all the way through every timestep to affect the output.\n",
        "##The main disadvantage of a bidirectional RNN is that you can't efficiently stream predictions as words are being added to the end.\n",
        "RNN_model.add(Bidirectional(LSTM(64,  return_sequences=True)))\n",
        "##optional part :\n",
        "#RNN with return_sequences=True is that the output still has 3-axes, like the input, so it can be passed to another RNN layer, like this:\n",
        "RNN_model.add(Bidirectional(LSTM(32)))\n",
        "#After the RNN has converted the sequence to a single vector the dense layers do some final processing,\n",
        "#and convert from this vector representation to a single logit as the classification output.\n",
        "for i in [512,256,128,64]:\n",
        "    RNN_model.add(Dense(i, activation='sigmoid', name=\"Dense_Layer_\" + str(i)))\n",
        "#then passing on a dense layer of size one to get data between 0 and 1\n",
        "RNN_model.add(Dense(1, activation = 'sigmoid', name= 'Output'))"
      ]
    },
    {
      "cell_type": "code",
      "execution_count": null,
      "metadata": {
        "colab": {
          "base_uri": "https://localhost:8080/"
        },
        "id": "Yj1PtVxxbAKl",
        "outputId": "2eb471de-7faa-4d59-d4b9-97fc14a16bdb"
      },
      "outputs": [
        {
          "data": {
            "image/png": "[encoded data removed]",
            "text/plain": [
              "<IPython.core.display.Image object>"
            ]
          },
          "execution_count": 132,
          "metadata": {},
          "output_type": "execute_result"
        }
      ],
      "source": [
        "tf.keras.utils.plot_model(RNN_model)"
      ]
    },
    {
      "cell_type": "markdown",
      "metadata": {
        "id": "u5Bcvm-RfaEN"
      },
      "source": [
        "### Training"
      ]
    },
    {
      "cell_type": "code",
      "execution_count": null,
      "metadata": {
        "id": "jD0fNJL5yF9F"
      },
      "outputs": [],
      "source": [
        "save_weights = ModelCheckpoint(   # Saving Weights where validation accuracy is the best\n",
        "    filepath='/content/drive/MyDrive/Text_checkpoints/RNN_pre/checkpoint',\n",
        "    monitor='val_binary_accuracy',\n",
        "    save_best_only=True,\n",
        "    save_weights_only=True,\n",
        ")"
      ]
    },
    {
      "cell_type": "code",
      "execution_count": null,
      "metadata": {
        "id": "CkYAqUEqbHMg"
      },
      "outputs": [],
      "source": [
        "epochs = 20\n",
        "lr = 3e-5\n",
        "RNN_model.compile(\n",
        "    loss=\"binary_crossentropy\",\n",
        "    optimizer = optimizer(epochs,lr,train_pre), metrics=[\"binary_accuracy\"])"
      ]
    },
    {
      "cell_type": "code",
      "execution_count": null,
      "metadata": {
        "colab": {
          "base_uri": "https://localhost:8080/"
        },
        "id": "mKdCv26AbL1Z",
        "outputId": "a08d6e90-5469-4d37-cb5e-10a805b9553b"
      },
      "outputs": [
        {
          "name": "stdout",
          "output_type": "stream",
          "text": [
            "Model: \"sequential_13\"\n",
            "_________________________________________________________________\n",
            " Layer (type)                Output Shape              Param #   \n",
            "=================================================================\n",
            " text_vectorization_8 (TextV  (None, 100)              0         \n",
            " ectorization)                                                   \n",
            "                                                                 \n",
            " embedding_12 (Embedding)    (None, 100, 128)          128128    \n",
            "                                                                 \n",
            " bidirectional_24 (Bidirecti  (None, 100, 128)         98816     \n",
            " onal)                                                           \n",
            "                                                                 \n",
            " bidirectional_25 (Bidirecti  (None, 64)               41216     \n",
            " onal)                                                           \n",
            "                                                                 \n",
            " Dense_Layer_512 (Dense)     (None, 512)               33280     \n",
            "                                                                 \n",
            " Dense_Layer_256 (Dense)     (None, 256)               131328    \n",
            "                                                                 \n",
            " Dense_Layer_128 (Dense)     (None, 128)               32896     \n",
            "                                                                 \n",
            " Dense_Layer_64 (Dense)      (None, 64)                8256      \n",
            "                                                                 \n",
            " Output (Dense)              (None, 1)                 65        \n",
            "                                                                 \n",
            "=================================================================\n",
            "Total params: 473,985\n",
            "Trainable params: 473,985\n",
            "Non-trainable params: 0\n",
            "_________________________________________________________________\n"
          ]
        }
      ],
      "source": [
        "RNN_model.summary()"
      ]
    },
    {
      "cell_type": "code",
      "execution_count": null,
      "metadata": {
        "colab": {
          "base_uri": "https://localhost:8080/",
          "height": 713
        },
        "id": "QNAXtMxfbNP6",
        "outputId": "38e171a9-56d0-4c03-c4ea-4179dec47d14"
      },
      "outputs": [
        {
          "data": {
            "image/png": "[encoded data removed]",
            "text/plain": [
              "<Figure size 864x576 with 2 Axes>"
            ]
          },
          "metadata": {},
          "output_type": "display_data"
        },
        {
          "name": "stdout",
          "output_type": "stream",
          "text": [
            "binary_accuracy\n",
            "\ttraining         \t (min:    0.499, max:    0.500, cur:    0.499)\n",
            "\tvalidation       \t (min:    0.503, max:    0.503, cur:    0.503)\n",
            "Loss\n",
            "\ttraining         \t (min:    0.693, max:    0.709, cur:    0.693)\n",
            "\tvalidation       \t (min:    0.693, max:    0.705, cur:    0.693)\n",
            "\b\b\b\b\b\b\b\b\b\b\b\b\b\b\b\b\b\b\b\b\b\b\b\b\b\b\b\b\b\b\b\b\b\b\b\b\b\b\b\b\b\b\b\b\b\b\b\b\b\b\b\b\b\b\b\b\b\b\b\b\b\b\b\b\b\b\b\b\b\b\b\b\b\b\b\b\b\b\b\b\b\b\b\b\b\b\b\b\b\b\b\b\b\r1094/1094 [==============================] - 25s 23ms/step - loss: 0.6932 - binary_accuracy: 0.4991 - val_loss: 0.6931 - val_binary_accuracy: 0.5030\n"
          ]
        }
      ],
      "source": [
        "RNN_history = RNN_model.fit(train_pre,\n",
        "                            train_labels_pre,\n",
        "                            epochs=epochs,\n",
        "                            batch_size=32,\n",
        "                            verbose=1,\n",
        "                            validation_split=0.125,\n",
        "                            callbacks =[stop_early,PlotLossesKeras(),save_weights])"
      ]
    },
    {
      "cell_type": "markdown",
      "metadata": {
        "id": "mn55-rREbR9K"
      },
      "source": [
        "### Testing"
      ]
    },
    {
      "cell_type": "code",
      "execution_count": null,
      "metadata": {
        "colab": {
          "base_uri": "https://localhost:8080/"
        },
        "id": "fkT3fstQbPK1",
        "outputId": "a64c60b6-2591-48f6-9eac-3d356f3806fd"
      },
      "outputs": [
        {
          "name": "stdout",
          "output_type": "stream",
          "text": [
            "313/313 [==============================] - 3s 11ms/step - loss: 0.7074 - binary_accuracy: 0.4968\n",
            "Test Loss: 0.7073873281478882\n",
            "Test Accuracy: 0.4968000054359436\n"
          ]
        }
      ],
      "source": [
        "RNN_test_loss, RNN_test_acc = RNN_model.evaluate(test_pre, test_labels_pre)\n",
        "print('Test Loss:', RNN_test_loss)\n",
        "print('Test Accuracy:', RNN_test_acc)"
      ]
    },
    {
      "cell_type": "code",
      "execution_count": null,
      "metadata": {
        "colab": {
          "base_uri": "https://localhost:8080/"
        },
        "id": "3VdGKSAnbj2B",
        "outputId": "9a3052e1-9016-4fb4-b804-8c66f5da39ec"
      },
      "outputs": [
        {
          "name": "stdout",
          "output_type": "stream",
          "text": [
            "313/313 [==============================] - 4s 10ms/step\n"
          ]
        }
      ],
      "source": [
        "RNN_prediction = RNN_model.predict(test_pre)"
      ]
    },
    {
      "cell_type": "markdown",
      "metadata": {
        "id": "RGygEaynd_in"
      },
      "source": [
        "### Evaluation Metrics"
      ]
    },
    {
      "cell_type": "code",
      "execution_count": null,
      "metadata": {
        "id": "nzCrZYCZeHEE"
      },
      "outputs": [],
      "source": [
        "y_preds_RNN = RNN_prediction.flatten()\n",
        "y_preds_RNN = np.where(y_preds_RNN > 0.5, 1, 0)"
      ]
    },
    {
      "cell_type": "code",
      "execution_count": null,
      "metadata": {
        "colab": {
          "base_uri": "https://localhost:8080/",
          "height": 406
        },
        "id": "3ttnHQ42n7dw",
        "outputId": "fae1f9f8-6cbd-4c5b-bf0f-1bd23d9d22ae"
      },
      "outputs": [
        {
          "name": "stdout",
          "output_type": "stream",
          "text": [
            "F1 Score   -->  0.833\n",
            "Accuracy   -->  0.837\n",
            "Precision  -->  0.862\n",
            "Specificty -->  0.805\n",
            "Recall     -->  0.805\n",
            "Confusion Matrix :\n",
            " [[4319  649]\n",
            " [ 980 4052]]\n"
          ]
        },
        {
          "data": {
            "image/png": "[encoded data removed]",
            "text/plain": [
              "<Figure size 288x288 with 2 Axes>"
            ]
          },
          "metadata": {},
          "output_type": "display_data"
        }
      ],
      "source": [
        "Eval(test_labels_pre, y_preds_RNN)"
      ]
    },
    {
      "cell_type": "markdown",
      "metadata": {
        "id": "vMDJ0oulexFx"
      },
      "source": [
        "## Without Preprocessing"
      ]
    },
    {
      "cell_type": "markdown",
      "metadata": {
        "id": "pTMDPGvOggOz"
      },
      "source": [
        "### Building the Model"
      ]
    },
    {
      "cell_type": "code",
      "execution_count": null,
      "metadata": {
        "id": "r9fM7ft8e6Gk"
      },
      "outputs": [],
      "source": [
        "max_tokens = 1000\n",
        "max_len = 100\n",
        "encoder_2 = TextVectorization(\n",
        "  max_tokens=max_tokens,\n",
        "  output_mode=\"int\",\n",
        "  output_sequence_length=max_len,\n",
        ")\n",
        "encoder_2.adapt(train_nrm)"
      ]
    },
    {
      "cell_type": "code",
      "execution_count": null,
      "metadata": {
        "id": "IDCPyb4AfN7l"
      },
      "outputs": [],
      "source": [
        "RNN_model_2 = Sequential()\n",
        "RNN_model_2.add(Input(shape=(1,), dtype=\"string\"))\n",
        "RNN_model_2.add(encoder_2)\n",
        "RNN_model_2.add(Embedding((max_tokens + 1), 128))\n",
        "RNN_model_2.add(Bidirectional(LSTM(64,  return_sequences=True)))\n",
        "RNN_model_2.add(Bidirectional(LSTM(32)))\n",
        "for i in [512,256,128,64]:\n",
        "    RNN_model_2.add(Dense(i, activation='sigmoid', name=\"Dense_Layer_\" + str(i)))\n",
        "RNN_model_2.add(Dense(1, activation = 'sigmoid', name= 'Output'))"
      ]
    },
    {
      "cell_type": "markdown",
      "metadata": {
        "id": "38S0hzPggsVQ"
      },
      "source": [
        "### Training"
      ]
    },
    {
      "cell_type": "code",
      "execution_count": null,
      "metadata": {
        "id": "01-L3qShyys5"
      },
      "outputs": [],
      "source": [
        "save_weights = ModelCheckpoint(   # Saving Weights where validation accuracy is the best\n",
        "    filepath='/content/drive/MyDrive/Text_checkpoints/RNN_nrm/checkpoint',\n",
        "    monitor='val_binary_accuracy',\n",
        "    save_best_only=True,\n",
        "    save_weights_only=True,\n",
        ")"
      ]
    },
    {
      "cell_type": "code",
      "execution_count": null,
      "metadata": {
        "id": "8f681w_jgb96"
      },
      "outputs": [],
      "source": [
        "epochs = 20\n",
        "lr = 3e-3\n",
        "RNN_model_2.compile(\n",
        "    loss=\"binary_crossentropy\", optimizer = optimizer(epochs,lr,train_nrm), metrics=[\"binary_accuracy\"])"
      ]
    },
    {
      "cell_type": "code",
      "execution_count": null,
      "metadata": {
        "colab": {
          "base_uri": "https://localhost:8080/"
        },
        "id": "FeEGYzf4hAq5",
        "outputId": "74d6ee70-49c7-4bb4-851a-ca9cdd3a1f03"
      },
      "outputs": [
        {
          "name": "stdout",
          "output_type": "stream",
          "text": [
            "Model: \"sequential_17\"\n",
            "_________________________________________________________________\n",
            " Layer (type)                Output Shape              Param #   \n",
            "=================================================================\n",
            " text_vectorization_12 (Text  (None, 100)              0         \n",
            " Vectorization)                                                  \n",
            "                                                                 \n",
            " embedding_16 (Embedding)    (None, 100, 128)          128128    \n",
            "                                                                 \n",
            " bidirectional_32 (Bidirecti  (None, 100, 128)         98816     \n",
            " onal)                                                           \n",
            "                                                                 \n",
            " bidirectional_33 (Bidirecti  (None, 64)               41216     \n",
            " onal)                                                           \n",
            "                                                                 \n",
            " Dense_Layer_512 (Dense)     (None, 512)               33280     \n",
            "                                                                 \n",
            " Dense_Layer_256 (Dense)     (None, 256)               131328    \n",
            "                                                                 \n",
            " Dense_Layer_128 (Dense)     (None, 128)               32896     \n",
            "                                                                 \n",
            " Dense_Layer_64 (Dense)      (None, 64)                8256      \n",
            "                                                                 \n",
            " Output (Dense)              (None, 1)                 65        \n",
            "                                                                 \n",
            "=================================================================\n",
            "Total params: 473,985\n",
            "Trainable params: 473,985\n",
            "Non-trainable params: 0\n",
            "_________________________________________________________________\n"
          ]
        }
      ],
      "source": [
        "RNN_model_2.summary()"
      ]
    },
    {
      "cell_type": "code",
      "execution_count": null,
      "metadata": {
        "colab": {
          "base_uri": "https://localhost:8080/",
          "height": 713
        },
        "id": "tqmr_sdghIhB",
        "outputId": "fac864e1-f9d9-46d6-c821-d404173f02d8"
      },
      "outputs": [
        {
          "data": {
            "image/png": "[encoded data removed]",
            "text/plain": [
              "<Figure size 864x576 with 2 Axes>"
            ]
          },
          "metadata": {},
          "output_type": "display_data"
        },
        {
          "name": "stdout",
          "output_type": "stream",
          "text": [
            "binary_accuracy\n",
            "\ttraining         \t (min:    0.500, max:    0.811, cur:    0.811)\n",
            "\tvalidation       \t (min:    0.486, max:    0.809, cur:    0.805)\n",
            "Loss\n",
            "\ttraining         \t (min:    0.412, max:    0.810, cur:    0.412)\n",
            "\tvalidation       \t (min:    0.420, max:    0.694, cur:    0.431)\n",
            "\b\b\b\b\b\b\b\b\b\b\b\b\b\b\b\b\b\b\b\b\b\b\b\b\b\b\b\b\b\b\b\b\b\b\b\b\b\b\b\b\b\b\b\b\b\b\b\b\b\b\b\b\b\b\b\b\b\b\b\b\b\b\b\b\b\b\b\b\b\b\b\b\b\b\b\b\b\b\b\b\b\b\b\b\b\b\b\b\b\b\b\b\b\r1094/1094 [==============================] - 25s 23ms/step - loss: 0.4123 - binary_accuracy: 0.8105 - val_loss: 0.4311 - val_binary_accuracy: 0.8046\n"
          ]
        }
      ],
      "source": [
        "RNN_2_history = RNN_model_2.fit(train_nrm,\n",
        "                                train_labels_nrm,\n",
        "                                epochs=epochs,\n",
        "                                batch_size=32,\n",
        "                                verbose=1,\n",
        "                                validation_split=0.125,\n",
        "                                callbacks =[stop_early,PlotLossesKeras(),save_weights])"
      ]
    },
    {
      "cell_type": "markdown",
      "metadata": {
        "id": "ttEaY4RDgvkm"
      },
      "source": [
        "### Testing"
      ]
    },
    {
      "cell_type": "code",
      "execution_count": null,
      "metadata": {
        "colab": {
          "base_uri": "https://localhost:8080/"
        },
        "id": "_4I6pAdvgxwo",
        "outputId": "8afcc1a2-1a13-43f5-f2b8-aac545d3f9c4"
      },
      "outputs": [
        {
          "name": "stdout",
          "output_type": "stream",
          "text": [
            "313/313 [==============================] - 3s 11ms/step - loss: 0.4937 - binary_accuracy: 0.7911\n",
            "Test Loss: 0.4936957061290741\n",
            "Test Accuracy: 0.791100025177002\n"
          ]
        }
      ],
      "source": [
        "RNN_2_test_loss, RNN_2_test_acc = RNN_model_2.evaluate(test_pre, test_labels_pre)\n",
        "print('Test Loss:', RNN_2_test_loss)\n",
        "print('Test Accuracy:', RNN_2_test_acc)"
      ]
    },
    {
      "cell_type": "code",
      "execution_count": null,
      "metadata": {
        "colab": {
          "base_uri": "https://localhost:8080/"
        },
        "id": "clc0IUSHhcqZ",
        "outputId": "d4bceef5-f4f5-4988-9e58-21a735d1006b"
      },
      "outputs": [
        {
          "name": "stdout",
          "output_type": "stream",
          "text": [
            "313/313 [==============================] - 4s 10ms/step\n"
          ]
        }
      ],
      "source": [
        "RNN_2_prediction = RNN_model_2.predict(test_pre)"
      ]
    },
    {
      "cell_type": "markdown",
      "metadata": {
        "id": "SjjHzIH-g0wr"
      },
      "source": [
        "### Evaluation Metrics"
      ]
    },
    {
      "cell_type": "code",
      "execution_count": null,
      "metadata": {
        "id": "8Ytf2CUkhnuA"
      },
      "outputs": [],
      "source": [
        "y_preds_RNN_2 = RNN_prediction.flatten()\n",
        "y_preds_RNN_2 = np.where(y_preds_RNN > 0.5, 1, 0)"
      ]
    },
    {
      "cell_type": "code",
      "execution_count": null,
      "metadata": {
        "colab": {
          "base_uri": "https://localhost:8080/",
          "height": 406
        },
        "id": "Rn1mO4sUtbgt",
        "outputId": "2670a8f2-8579-4d6e-9011-1065069a1a11"
      },
      "outputs": [
        {
          "name": "stdout",
          "output_type": "stream",
          "text": [
            "F1 Score   -->  0.487\n",
            "Accuracy   -->  0.504\n",
            "Precision  -->  0.501\n",
            "Specificty -->  0.474\n",
            "Recall     -->  0.474\n",
            "Confusion Matrix :\n",
            " [[2685 2346]\n",
            " [2614 2355]]\n"
          ]
        },
        {
          "data": {
            "image/png": "[encoded data removed]",
            "text/plain": [
              "<Figure size 288x288 with 2 Axes>"
            ]
          },
          "metadata": {},
          "output_type": "display_data"
        }
      ],
      "source": [
        "Eval(test_labels_nrm, y_preds_RNN_2)"
      ]
    }
  ],
  "metadata": {
    "accelerator": "GPU",
    "colab": {
      "collapsed_sections": [
        "UxYlVZvxpD7n",
        "ytWrwV61S3gE",
        "c5wn5FZ7Rc8J",
        "W00JOlnYo5GH",
        "OqYVAYcRjQbM",
        "GlFM6P-8jcre",
        "o8LCAKBlsjUv",
        "Fg58MV4wV1dT",
        "nQNL51ylhvWN",
        "gpdR7iKghfLK",
        "4rsGhfOMo1ZP",
        "drSa6LVKK9KC",
        "KVoUIeEuuX5C",
        "8qHLTFs10nIo",
        "Di8IgmLw69vK",
        "pzJqgetjn-nc",
        "0YQss4Bc7Qt0",
        "4sFW0L73nIyo",
        "Ye4HL4wnm3Xr",
        "ttEaY4RDgvkm",
        "SjjHzIH-g0wr"
      ],
      "provenance": []
    },
    "gpuClass": "standard",
    "kernelspec": {
      "display_name": "Python 3",
      "name": "python3"
    },
    "language_info": {
      "name": "python"
    }
  },
  "nbformat": 4,
  "nbformat_minor": 0
}